{
 "cells": [
  {
   "cell_type": "code",
   "execution_count": 2,
   "id": "92cbf2ea-9efe-4fc2-990d-abeef0834fae",
   "metadata": {},
   "outputs": [
    {
     "name": "stdout",
     "output_type": "stream",
     "text": [
      "2 2.4 frsfnjref (2+3j)\n"
     ]
    }
   ],
   "source": [
    "a=2\n",
    "b=2.4\n",
    "c=\"frsfnjref\"\n",
    "d=2+3j\n",
    "\n",
    "print(a,b,c,d)"
   ]
  },
  {
   "cell_type": "markdown",
   "id": "c78cf1c2-5bb8-4513-b50d-6fdc4202af39",
   "metadata": {},
   "source": [
    "## All variables types and values find"
   ]
  },
  {
   "cell_type": "markdown",
   "id": "3f91d023-2e89-46ed-b0d8-8335d53deeab",
   "metadata": {},
   "source": [
    "%whos"
   ]
  },
  {
   "cell_type": "markdown",
   "id": "375b5844-0884-4398-9612-863f3cdac38e",
   "metadata": {},
   "source": [
    "# _ -----------> underscore varibale name is coreect\n",
    "# Python variable is case sensitive"
   ]
  },
  {
   "cell_type": "code",
   "execution_count": 4,
   "id": "1c7ea6f4-045d-41a7-b174-8b59e217d2fb",
   "metadata": {},
   "outputs": [
    {
     "name": "stdout",
     "output_type": "stream",
     "text": [
      "John Doe\n"
     ]
    }
   ],
   "source": [
    "first_name=\"John\"\n",
    "last_name=\"Doe\"\n",
    "full_name=first_name+\" \"+last_name\n",
    "print(full_name)"
   ]
  },
  {
   "cell_type": "markdown",
   "id": "76b2cd46-99f0-4431-84ad-eedfaad27f21",
   "metadata": {},
   "source": [
    "#Exmaple---1"
   ]
  },
  {
   "cell_type": "code",
   "execution_count": null,
   "id": "d3a3716f-758d-4734-9964-c0e2d5ba8f52",
   "metadata": {},
   "outputs": [],
   "source": [
    "product_one_qun=5\n",
    "product_one_price=250\n",
    "\n",
    "product_two_qun=25\n",
    "product_two_price=656\n",
    "\n",
    "product_three_qun=34\n",
    "product_three_price=274\n",
    "\n",
    " \n",
    "p1=product_one_qun*product_one_price\n",
    "p2=product_two_qun*product_two_price\n",
    "p3=product_three_qun*product_three_price\n",
    "\n",
    "print(\"Total price\",p1+p2+p3)"
   ]
  },
  {
   "cell_type": "markdown",
   "id": "bbbd576c-75a0-4ae7-a62d-9c59573ba4b6",
   "metadata": {},
   "source": [
    "#area of the circle"
   ]
  },
  {
   "cell_type": "code",
   "execution_count": 11,
   "id": "c5c013c2-82b0-4720-a50e-a6859cd30985",
   "metadata": {},
   "outputs": [
    {
     "name": "stdout",
     "output_type": "stream",
     "text": [
      "452.3904\n"
     ]
    }
   ],
   "source": [
    "r=12\n",
    "pi=3.1416\n",
    "\n",
    "area=pi*r*r\n",
    "\n",
    "print(area)\n"
   ]
  },
  {
   "cell_type": "code",
   "execution_count": 14,
   "id": "41cde707-736d-466f-8044-235e7ccaf295",
   "metadata": {},
   "outputs": [
    {
     "name": "stdout",
     "output_type": "stream",
     "text": [
      "<class 'float'>\n"
     ]
    }
   ],
   "source": [
    "#Str to float------------------>just use float function to convert str to float\n",
    "#number to str------------------->use str function\n",
    "\n",
    "#1\n",
    "a=\"3.14\"\n",
    "b=float(a)\n",
    "b\n",
    "print(type(b))\n",
    "\n",
    "#2\n",
    "\n",
    "c=34\n",
    "d=str(c)\n",
    "print(type(d ))"
   ]
  },
  {
   "cell_type": "code",
   "execution_count": null,
   "id": "976f8291-8ac3-4f23-99ac-b4e69de9e50e",
   "metadata": {},
   "outputs": [],
   "source": [
    "# abs function---------------> with this fuction we can make thing or number in  positive"
   ]
  },
  {
   "cell_type": "code",
   "execution_count": 15,
   "id": "1595868d-3b07-4ea5-8e88-4180f5709022",
   "metadata": {},
   "outputs": [
    {
     "name": "stdout",
     "output_type": "stream",
     "text": [
      "8\n"
     ]
    }
   ],
   "source": [
    "db=[{\"x\",-23,'1234'},{\"x\",-23,'1234'},{\"x\",-23,'1234'},{\"x\",-23,'1234'},{\"x\",-23,'1234'},{\"x\",-23,'1234'},{\"x\",-23,'1234'},{\"x\",-23,'1234'}]\n",
    "print(len(db))"
   ]
  },
  {
   "cell_type": "code",
   "execution_count": 26,
   "id": "2ec2b9fd-483f-4709-99fd-4e9befb82317",
   "metadata": {},
   "outputs": [
    {
     "name": "stdout",
     "output_type": "stream",
     "text": [
      "{'1234', -23, 'x'}\n"
     ]
    },
    {
     "ename": "TypeError",
     "evalue": "'set' object is not subscriptable",
     "output_type": "error",
     "traceback": [
      "\u001b[1;31m---------------------------------------------------------------------------\u001b[0m",
      "\u001b[1;31mTypeError\u001b[0m                                 Traceback (most recent call last)",
      "Cell \u001b[1;32mIn[26], line 4\u001b[0m\n\u001b[0;32m      2\u001b[0m \u001b[38;5;28mprint\u001b[39m(i)\n\u001b[0;32m      3\u001b[0m \u001b[38;5;28;01mfor\u001b[39;00m j \u001b[38;5;129;01min\u001b[39;00m i:\n\u001b[1;32m----> 4\u001b[0m     \u001b[38;5;28mprint\u001b[39m(\u001b[43mi\u001b[49m\u001b[43m[\u001b[49m\u001b[38;5;241;43m2\u001b[39;49m\u001b[43m]\u001b[49m)\n",
      "\u001b[1;31mTypeError\u001b[0m: 'set' object is not subscriptable"
     ]
    }
   ],
   "source": [
    "for i in db:\n",
    "    print(i)\n",
    "    for j in i:\n",
    "        print(j)\n",
    "      \n",
    "        "
   ]
  },
  {
   "cell_type": "code",
   "execution_count": null,
   "id": "14bc8d78-5b38-4980-9dac-811167583447",
   "metadata": {},
   "outputs": [],
   "source": []
  }
 ],
 "metadata": {
  "kernelspec": {
   "display_name": "Python 3 (ipykernel)",
   "language": "python",
   "name": "python3"
  },
  "language_info": {
   "codemirror_mode": {
    "name": "ipython",
    "version": 3
   },
   "file_extension": ".py",
   "mimetype": "text/x-python",
   "name": "python",
   "nbconvert_exporter": "python",
   "pygments_lexer": "ipython3",
   "version": "3.12.3"
  }
 },
 "nbformat": 4,
 "nbformat_minor": 5
}
